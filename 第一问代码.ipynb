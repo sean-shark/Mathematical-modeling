{
 "cells": [
  {
   "cell_type": "code",
   "execution_count": null,
   "id": "89965d77",
   "metadata": {},
   "outputs": [],
   "source": [
    "import numpy as np\n",
    "import pandas as pd\n",
    "import re,math\n",
    "from sklearn import preprocessing\n",
    "from scipy.stats import pearsonr\n",
    "import matplotlib.pyplot as plt\n",
    "from scipy.optimize import leastsq\n",
    "#from bokeh.plotting import figure, show, output_file"
   ]
  },
  {
   "cell_type": "code",
   "execution_count": null,
   "id": "9d705297",
   "metadata": {},
   "outputs": [],
   "source": [
    "data = pd.read_csv(r'附件1 弱覆盖栅格数据(筛选).csv')\n",
    "data.sort_values(by='traffic',inplace=True,ascending=False)\n",
    "data = data.reset_index(drop=True)\n",
    "data"
   ]
  },
  {
   "cell_type": "code",
   "execution_count": null,
   "id": "0707b0e6",
   "metadata": {},
   "outputs": [],
   "source": [
    "exsit=pd.read_csv(r'附件2 现网站址坐标(筛选).csv').drop('id',axis=1)\n",
    "exsit"
   ]
  },
  {
   "cell_type": "code",
   "execution_count": null,
   "id": "15ef00cf",
   "metadata": {},
   "outputs": [],
   "source": [
    "#建立图坐标数据\n",
    "coordinate=[]\n",
    "coordinate=[[i,j]for i in range(2500)for j in range(2500)]\n",
    "coordinate=pd.DataFrame(coordinate,columns=['x','y'])\n",
    "coordinate"
   ]
  },
  {
   "cell_type": "code",
   "execution_count": null,
   "id": "ac6e22bf",
   "metadata": {},
   "outputs": [],
   "source": [
    "#挑选半径为10内的点\n",
    "def select_point10(x,y):\n",
    "    point=[]\n",
    "    for i in range(20):\n",
    "        for j in range(20):\n",
    "            if(math.sqrt((10-i)**2+(10-j)**2)<=10):\n",
    "                point.append([x-10+i,y-10+j])\n",
    "    point=pd.DataFrame(point,columns=['x','y'])\n",
    "    return point\n",
    "\n",
    "#挑选半径为30内的点\n",
    "def select_point30(x,y):\n",
    "    point=[]\n",
    "    for i in range(60):\n",
    "        for j in range(60):\n",
    "            if(math.sqrt((30-i)**2+(30-j)**2)<=30):\n",
    "                point.append([x-30+i,y-30+j])\n",
    "    point=pd.DataFrame(point,columns=['x','y'])\n",
    "    return point\n",
    "\n",
    "#更新动态数据,即求DataFrame的差集\n",
    "def renew(df1,df2):\n",
    "    df1 = pd.concat([df1, df2, df2]).drop_duplicates(subset=['x','y'],keep=False)\n",
    "    return df1"
   ]
  },
  {
   "cell_type": "code",
   "execution_count": null,
   "id": "c44c79bc",
   "metadata": {},
   "outputs": [],
   "source": [
    "#用现有基站坐标更新coordinate\n",
    "for i in exsit.index:\n",
    "    tmp=select_point10(exsit.x[i],exsit.y[i])\n",
    "    coordinate=renew(coordinate,tmp)\n",
    "coordinate"
   ]
  },
  {
   "cell_type": "code",
   "execution_count": null,
   "id": "761eabfd",
   "metadata": {},
   "outputs": [],
   "source": [
    "#初始化接收数组和业务量总和\n",
    "bs=[]\n",
    "traffic_sum=0"
   ]
  },
  {
   "cell_type": "code",
   "execution_count": null,
   "id": "36192ba2",
   "metadata": {},
   "outputs": [],
   "source": [
    "#遍历弱覆盖栅格数据（排序）\n",
    "while(1):\n",
    "    \n",
    "    point10=select_point10(data.x.iloc[0],data.y.iloc[0])\n",
    "    point10=pd.merge(coordinate, point10, how='inner')\n",
    "    \n",
    "    point30=select_point30(data.x.iloc[0],data.y.iloc[0])\n",
    "    point30=pd.merge(coordinate, point30, how='inner')\n",
    "    \n",
    "    #遍历可建基站点\n",
    "    ratio10=[0]\n",
    "    for temp1 in point10.index:\n",
    "        point10_10=select_point10(point10.x[temp1],point10.y[temp1])\n",
    "        point10_10=pd.merge(data, point10_10, how='inner')\n",
    "        if ratio10[-1]<point10_10.traffic.sum():\n",
    "            ratio10.append(point10_10.traffic.sum())\n",
    "            x_max_10=point10_10.x[0]\n",
    "            y_max_10=point10_10.y[0]\n",
    "        \n",
    "    ratio30=[0]\n",
    "    for temp1 in point30.index:\n",
    "        point30_30=select_point30(point30.x[temp1],point30.y[temp1])\n",
    "        point30_30=pd.merge(data, point30_30, how='inner')\n",
    "        if ratio30[-1]<point30_30.traffic.sum():\n",
    "            ratio30.append(point30_30.traffic.sum()/10)\n",
    "            x_max_30=point30_30.x[0]\n",
    "            y_max_30=point30_30.y[0]\n",
    "    \n",
    "    #建立新的基站    \n",
    "    if ratio10[-1]>ratio30[-1]:\n",
    "        traffic_sum=traffic_sum+ratio10[-1]\n",
    "        x_max=x_max_10\n",
    "        y_max=y_max_10\n",
    "        point_new=select_point10(x_max,y_max)\n",
    "        bs.append([x_max,y_max,10])\n",
    "        \n",
    "    if ratio10[-1]<ratio30[-1]:\n",
    "        traffic_sum=traffic_sum+ratio30[-1]\n",
    "        x_max=x_max_30\n",
    "        y_max=y_max_30\n",
    "        point_new=select_point10(x_max,y_max)\n",
    "        bs.append([x_max,y_max,30])\n",
    "        \n",
    "    if ratio10[-1]== ratio30[-1]:\n",
    "        data=data.iloc[1:,:]\n",
    "\n",
    "    #更新动态数据\n",
    "    ttt=select_point10(x_max,y_max)\n",
    "    coordinate=renew(coordinate,ttt)\n",
    "    data=renew(data,point_new)\n",
    "    \n",
    "    #在业务量大于总业务量90%时结束循环\n",
    "    if traffic_sum>=6350607.1:\n",
    "        break\n",
    "\n",
    "        \n",
    "    print(traffic_sum)"
   ]
  },
  {
   "cell_type": "code",
   "execution_count": null,
   "id": "c8035fbb",
   "metadata": {},
   "outputs": [],
   "source": [
    "#保存数结果据\n",
    "data.to_csv(\"data最终结果.csv\")\n",
    "pd.DataFrame(bs,columns=['x','y','r']).to_csv(\"bs最终结果.csv\")\n",
    "coordinate.to_csv(\"coordinate最终结果.csv\")"
   ]
  }
 ],
 "metadata": {
  "kernelspec": {
   "display_name": "Python 3",
   "language": "python",
   "name": "python3"
  },
  "language_info": {
   "codemirror_mode": {
    "name": "ipython",
    "version": 3
   },
   "file_extension": ".py",
   "mimetype": "text/x-python",
   "name": "python",
   "nbconvert_exporter": "python",
   "pygments_lexer": "ipython3",
   "version": "3.8.8"
  }
 },
 "nbformat": 4,
 "nbformat_minor": 5
}
