{
 "cells": [
  {
   "cell_type": "code",
   "execution_count": null,
   "metadata": {},
   "outputs": [],
   "source": [
    "plt.figure(figsize=(5,5))\n",
    "plt.xlim(0,2500)\n",
    "plt.ylim(0,2500)\n",
    "s1=plt.scatter(X,Y,c='w',s=1)\n",
    "s2=plt.scatter(x_weak,y_weak,c='b',s=1)\n",
    "plt.axis('off');"
   ]
  },
  {
   "cell_type": "code",
   "execution_count": null,
   "metadata": {},
   "outputs": [],
   "source": [
    "Z=np.array([x_weak,y_weak]).T"
   ]
  },
  {
   "cell_type": "code",
   "execution_count": null,
   "metadata": {},
   "outputs": [],
   "source": [
    "from sklearn.cluster import KMeans\n",
    "\n",
    "kmeans=KMeans(n_clusters=10) #自己设置簇中心点的个数\n",
    "kmeans.fit(Z)\n",
    "y_kmeans=kmeans.predict(Z)\n",
    "\n",
    "plt.scatter(Z[:,0],Z[:,1],c=y_kmeans,s=1,cmap='rainbow')\n",
    "centers=kmeans.cluster_centers_                            \n",
    "plt.scatter(centers[:,0],centers[:,1],c='k',s=10,alpha=0.5);"
   ]
  },
  {
   "cell_type": "code",
   "execution_count": null,
   "metadata": {},
   "outputs": [],
   "source": [
    "from scipy.spatial.distance import cdist\n",
    "\n",
    "def plot_kmeans(kmeans,Z,n_clusters=10,rseed=0,ax=None):\n",
    "    labels=kmeans.fit_predict(Z)\n",
    "    \n",
    "    ax=ax or plt.gca()\n",
    "    ax.axis('equal')\n",
    "    ax.scatter(Z[:,0],Z[:,1],c=labels,s=1,cmap='rainbow',zorder=2)\n",
    "    centers=kmeans.cluster_centers_\n",
    "    radii=[cdist(Z[labels==i],[center]).max()for i,center in enumerate(centers)]\n",
    "    for c,r in zip(centers,radii):\n",
    "        ax.add_patch(plt.Circle(c,r,fc='#CCCCCC',lw=3,alpha=0.5,zorder=1))\n",
    "        \n",
    "kmeans=KMeans(n_clusters=10,random_state=0)\n",
    "plot_kmeans(kmeans,Z)"
   ]
  },
  {
   "cell_type": "code",
   "execution_count": null,
   "metadata": {},
   "outputs": [],
   "source": [
    "from sklearn.cluster import DBSCAN\n",
    "\n",
    "dbscan = DBSCAN(eps=20,min_samples=1).fit(Z)"
   ]
  },
  {
   "cell_type": "code",
   "execution_count": null,
   "metadata": {},
   "outputs": [],
   "source": [
    "plt.figure(figsize=(7,7))\n",
    "plt.scatter(Z[:,0],Z[:,1],c=dbscan.labels_,s=1,cmap='tab20c')"
   ]
  },
  {
   "cell_type": "code",
   "execution_count": null,
   "metadata": {},
   "outputs": [],
   "source": [
    "len(np.unique(dbscan.labels_))"
   ]
  },
  {
   "cell_type": "code",
   "execution_count": null,
   "metadata": {},
   "outputs": [],
   "source": [
    "lens=[]\n",
    "for i in range(1000):\n",
    "    dbscan = DBSCAN(eps=20,min_samples=i).fit(Z)\n",
    "    lens.append(len(np.unique(dbscan.labels_)))"
   ]
  },
  {
   "cell_type": "code",
   "execution_count": null,
   "metadata": {},
   "outputs": [],
   "source": [
    "plt.plot(lens,c='b')"
   ]
  },
  {
   "cell_type": "code",
   "execution_count": null,
   "metadata": {},
   "outputs": [],
   "source": [
    "from sklearn.cluster import DBSCAN\n",
    "\n",
    "dbscan = DBSCAN(eps=20,min_samples=100).fit(Z)"
   ]
  },
  {
   "cell_type": "code",
   "execution_count": null,
   "metadata": {},
   "outputs": [],
   "source": [
    "plt.figure(figsize=(7,7))\n",
    "plt.scatter(Z[:,0],Z[:,1],c=dbscan.labels_,s=1,cmap='Paired')"
   ]
  },
  {
   "cell_type": "code",
   "execution_count": null,
   "metadata": {},
   "outputs": [],
   "source": [
    "dl=pd.Series(dbscan.labels_)"
   ]
  },
  {
   "cell_type": "code",
   "execution_count": null,
   "metadata": {},
   "outputs": [],
   "source": [
    "len(np.unique(dbscan.labels_))"
   ]
  },
  {
   "cell_type": "code",
   "execution_count": null,
   "metadata": {},
   "outputs": [],
   "source": [
    "lens=[]\n",
    "for i in range(1000):\n",
    "    dbscan = DBSCAN(eps=20,min_samples=i).fit(Z)\n",
    "    lens.append(len(np.unique(dbscan.labels_)))"
   ]
  },
  {
   "cell_type": "code",
   "execution_count": null,
   "metadata": {},
   "outputs": [],
   "source": [
    "lens.describe()"
   ]
  },
  {
   "cell_type": "code",
   "execution_count": null,
   "metadata": {},
   "outputs": [],
   "source": [
    "plt.plot(lens,c='b')\n",
    "plt.xlabel('最小点集数minpts',fontdict={'size': 12})\n",
    "plt.ylabel('聚类类别数',fontdict={'size': 12})"
   ]
  }
 ],
 "metadata": {
  "kernelspec": {
   "display_name": "Python 3",
   "language": "python",
   "name": "python3"
  },
  "language_info": {
   "codemirror_mode": {
    "name": "ipython",
    "version": 3
   },
   "file_extension": ".py",
   "mimetype": "text/x-python",
   "name": "python",
   "nbconvert_exporter": "python",
   "pygments_lexer": "ipython3",
   "version": "3.8.3"
  }
 },
 "nbformat": 4,
 "nbformat_minor": 4
}
